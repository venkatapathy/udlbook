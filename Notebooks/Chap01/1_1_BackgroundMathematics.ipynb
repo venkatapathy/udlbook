{
  "cells": [
    {
      "cell_type": "markdown",
      "metadata": {
        "id": "view-in-github",
        "colab_type": "text"
      },
      "source": [
        "<a href=\"https://colab.research.google.com/github/venkatapathy/udlbook/blob/dev/Notebooks/Chap01/1_1_BackgroundMathematics.ipynb\" target=\"_parent\"><img src=\"https://colab.research.google.com/assets/colab-badge.svg\" alt=\"Open In Colab\"/></a>"
      ]
    },
    {
      "cell_type": "markdown",
      "metadata": {
        "id": "s5zzKSOusPOB"
      },
      "source": [
        "\n",
        "# **Notebook 1.1 -- Background Mathematics**\n",
        "\n",
        "The purpose of this Python notebook is to make sure you can use CoLab and to familiarize yourself with some of the background mathematical concepts that you are going to need to understand deep learning. <br><br> It's not meant to be difficult and it may be that you know some or all of this information already.<br><br> Math is *NOT* a spectator sport.  You won't learn it by just listening to lectures or reading books.  It really helps to interact with it and explore yourself. <br><br> Work through the cells below, running each cell in turn.  In various places you will see the words **\"TODO\"**. Follow the instructions at these places and write code to complete the functions.  There are also questions interspersed in the text.\n",
        "\n",
        "Contact me at udlbookmail@gmail.com if you find any mistakes or have any suggestions."
      ]
    },
    {
      "cell_type": "code",
      "execution_count": 3,
      "metadata": {
        "id": "aUAjBbqzivMY"
      },
      "outputs": [],
      "source": [
        "# Imports math library\n",
        "import numpy as np\n",
        "# Imports plotting library\n",
        "import matplotlib.pyplot as plt"
      ]
    },
    {
      "cell_type": "markdown",
      "metadata": {
        "id": "WV2Dl6owme2d"
      },
      "source": [
        "**Linear functions**<br> We will be using the term *linear equation* to mean a weighted sum of inputs plus an offset. If there is just one input $x$, then this is a straight line:\n",
        "\n",
        "\\begin{equation}y=\\beta+\\omega x,\\end{equation}\n",
        "\n",
        "where $\\beta$ is the y-intercept of the linear and $\\omega$ is the slope of the line. When there are two inputs $x_{1}$ and $x_{2}$, then this becomes:\n",
        "\n",
        "\\begin{equation}y=\\beta+\\omega_1 x_1 + \\omega_2 x_2.\\end{equation}\n",
        "\n",
        "Any other functions are by definition **non-linear**.\n",
        "\n",
        "\n"
      ]
    },
    {
      "cell_type": "code",
      "execution_count": 6,
      "metadata": {
        "id": "WeFK4AvTotd8"
      },
      "outputs": [],
      "source": [
        "# Define a linear function with just one input, x\n",
        "def linear_function_1D(x,beta,omega):\n",
        "  # TODO -- replace the code line below with formula for 1D linear equation\n",
        "  y = beta+ (omega* x)\n",
        "\n",
        "  return y"
      ]
    },
    {
      "cell_type": "code",
      "execution_count": 7,
      "metadata": {
        "id": "eimhJ8_jpmEp",
        "colab": {
          "base_uri": "https://localhost:8080/",
          "height": 519,
          "referenced_widgets": [
            "97cb446256e3420babce546697724124",
            "e036aaba3dfd4811a9fb59842642ddba",
            "f8b9bbfa559e49a2813573718e89d8f9",
            "5dcf101aac2e4f5aae4df071801f5eba",
            "3a55c5a3b8284bc180360f9302fd5849",
            "f6444d87cfea4fc18ed27430873b9445",
            "a91940aed7cf408ea0dc03b1619de994",
            "3b441a2a43ac4e0c9b59116e16a072e8",
            "67e84d60b59f456b8f979fe8f6ecc970",
            "383fd370ee69400aa0b87300a690c48a"
          ]
        },
        "outputId": "8ced95ba-59ac-4dc9-b485-d9c18ef4abb4"
      },
      "outputs": [
        {
          "output_type": "display_data",
          "data": {
            "text/plain": [
              "interactive(children=(FloatSlider(value=0.0, description='beta', max=10.0, min=-10.0), FloatSlider(value=1.0, …"
            ],
            "application/vnd.jupyter.widget-view+json": {
              "version_major": 2,
              "version_minor": 0,
              "model_id": "97cb446256e3420babce546697724124"
            }
          },
          "metadata": {}
        }
      ],
      "source": [
        "# Plot the 1D linear function\n",
        "\n",
        "# Define an array of x values from 0 to 10 with increments of 0.01\n",
        "# https://numpy.org/doc/stable/reference/generated/numpy.arange.html\n",
        "x = np.arange(0.0,10.0, 0.01)\n",
        "\n",
        "# Imports interactive widgets\n",
        "from ipywidgets import interactive\n",
        "from ipywidgets import FloatSlider\n",
        "\n",
        "# Define a function that updates the plot based on beta and omega\n",
        "def plot_linear_function_1D(beta, omega):\n",
        "    y = linear_function_1D(x,beta,omega)\n",
        "\n",
        "    # Plot this function\n",
        "    fig, ax = plt.subplots()\n",
        "    ax.plot(x,y,'r-')\n",
        "    ax.set_ylim([0,10]);ax.set_xlim([0,10])\n",
        "    ax.set_xlabel('x'); ax.set_ylabel('y')\n",
        "    plt.show()\n",
        "\n",
        "# Create sliders for beta and omega\n",
        "interactive_plot = interactive(plot_linear_function_1D, beta=FloatSlider(min=-10, max=10, step=0.1, value=0), omega=FloatSlider(min=-10, max=10, step=0.1, value=1))\n",
        "interactive_plot"
      ]
    },
    {
      "cell_type": "markdown",
      "metadata": {
        "id": "AedfvD9dxShZ"
      },
      "source": [
        "Now let's investigate a 2D linear function"
      ]
    },
    {
      "cell_type": "code",
      "execution_count": null,
      "metadata": {
        "id": "57Gvkk-Ir_7b"
      },
      "outputs": [],
      "source": [
        "# Code to draw 2D function -- read it so you know what is going on, but you don't have to change it\n",
        "def draw_2D_function(x1_mesh, x2_mesh, y):\n",
        "    fig, ax = plt.subplots()\n",
        "    fig.set_size_inches(7,7)\n",
        "    pos = ax.contourf(x1_mesh, x2_mesh, y, levels=256 ,cmap = 'hot', vmin=-10,vmax=10.0)\n",
        "    fig.colorbar(pos, ax=ax)\n",
        "    ax.set_xlabel('x1');ax.set_ylabel('x2')\n",
        "    levels = np.arange(-10,10,1.0)\n",
        "    ax.contour(x1_mesh, x2_mesh, y, levels, cmap='winter')\n",
        "    plt.show()"
      ]
    },
    {
      "cell_type": "code",
      "execution_count": null,
      "metadata": {
        "id": "YxeNhrXMzkZR"
      },
      "outputs": [],
      "source": [
        "# Define a linear function with two inputs, x1 and x2\n",
        "def linear_function_2D(x1,x2,beta,omega1,omega2):\n",
        "  # TODO -- replace the code line below with formula for 2D linear equation\n",
        "  y = x1\n",
        "\n",
        "  return y"
      ]
    },
    {
      "cell_type": "code",
      "execution_count": null,
      "metadata": {
        "id": "rn_UBRDBysmR"
      },
      "outputs": [],
      "source": [
        "# Plot the 2D function\n",
        "\n",
        "# Make 2D array of x and y points\n",
        "x1 = np.arange(0.0, 10.0, 0.1)\n",
        "x2 = np.arange(0.0, 10.0, 0.1)\n",
        "x1,x2 = np.meshgrid(x1,x2)  # https://www.geeksforgeeks.org/numpy-meshgrid-function/\n",
        "\n",
        "# Compute the 2D function for given values of omega1, omega2\n",
        "beta = 0.0; omega1 = 1.0; omega2 = -0.5\n",
        "y  = linear_function_2D(x1,x2,beta, omega1, omega2)\n",
        "\n",
        "# Draw the function.\n",
        "# Color represents y value (brighter = higher value)\n",
        "# Black = -10 or less, White = +10 or more\n",
        "# 0 = mid orange\n",
        "# Lines are contours where value is equal\n",
        "draw_2D_function(x1,x2,y)\n",
        "\n",
        "# TODO\n",
        "# Predict what this plot will look like if you set omega_1 to zero\n",
        "# Change the code and see if you are right.\n",
        "\n",
        "# TODO\n",
        "# Predict what this plot will look like if you set omega_2 to zero\n",
        "# Change the code and see if you are right.\n",
        "\n",
        "# TODO\n",
        "# Predict what this plot will look like if you set beta to -5\n",
        "# Change the code and see if you are correct\n"
      ]
    },
    {
      "cell_type": "markdown",
      "metadata": {
        "id": "i8tLwpls476R"
      },
      "source": [
        "Often we will want to compute many linear functions at the same time.  For example, we might have three inputs, $x_1$, $x_2$, and $x_3$ and want to compute two linear functions giving $y_1$ and $y_2$. Of course, we could do this by just running each equation separately,<br><br>\n",
        "\n",
        "\\begin{align}y_1 &=& \\beta_1 + \\omega_{11} x_1 + \\omega_{12} x_2 + \\omega_{13} x_3\\\\\n",
        "y_2 &=& \\beta_2 + \\omega_{21} x_1 + \\omega_{22} x_2 + \\omega_{23} x_3.\n",
        "\\end{align}\n",
        "\n",
        "However, we can write it more compactly with vectors and matrices:\n",
        "\n",
        "\\begin{equation}\n",
        "\\begin{bmatrix} y_1\\\\ y_2 \\end{bmatrix} = \\begin{bmatrix}\\beta_{1}\\\\\\beta_{2}\\end{bmatrix}+ \\begin{bmatrix}\\omega_{11}&\\omega_{12}&\\omega_{13}\\\\\\omega_{21}&\\omega_{22}&\\omega_{23}\\end{bmatrix}\\begin{bmatrix}x_{1}\\\\x_{2}\\\\x_{3}\\end{bmatrix},\n",
        "\\end{equation}\n",
        "or\n",
        "\n",
        "\\begin{equation}\n",
        "\\mathbf{y} = \\boldsymbol\\beta +\\boldsymbol\\Omega\\mathbf{x}.\n",
        "\\end{equation}\n",
        "\n",
        "for short.  Here, lowercase bold symbols are used for vectors.  Upper case bold symbols are used for matrices.\n",
        "\n"
      ]
    },
    {
      "cell_type": "code",
      "execution_count": null,
      "metadata": {
        "id": "MjHXMavh9IUz"
      },
      "outputs": [],
      "source": [
        "# Define a linear function with three inputs, x1, x2, and x_3\n",
        "def linear_function_3D(x1,x2,x3,beta,omega1,omega2,omega3):\n",
        "  # TODO -- replace the code below with formula for a single 3D linear equation\n",
        "  y = x1\n",
        "\n",
        "  return y"
      ]
    },
    {
      "cell_type": "markdown",
      "metadata": {
        "id": "fGzVJQ6N-mHJ"
      },
      "source": [
        "Let's compute two linear equations, using both the individual equations and the vector / matrix form and check they give the same result"
      ]
    },
    {
      "cell_type": "code",
      "execution_count": null,
      "metadata": {
        "id": "Swd_bFIE9p2n"
      },
      "outputs": [],
      "source": [
        "# Define the parameters\n",
        "beta1 = 0.5; beta2 = 0.2\n",
        "omega11 =  -1.0 ; omega12 = 0.4; omega13 = -0.3\n",
        "omega21 =  0.1  ; omega22 = 0.1; omega23 = 1.2\n",
        "\n",
        "# Define the inputs\n",
        "x1 = 4 ; x2 =-1; x3 = 2\n",
        "\n",
        "# Compute using the individual equations\n",
        "y1 = linear_function_3D(x1,x2,x3,beta1,omega11,omega12,omega13)\n",
        "y2 = linear_function_3D(x1,x2,x3,beta2,omega21,omega22,omega23)\n",
        "print(\"Individual equations\")\n",
        "print('y1 = %3.3f\\ny2 = %3.3f'%((y1,y2)))\n",
        "\n",
        "# Define vectors and matrices\n",
        "beta_vec = np.array([[beta1],[beta2]])\n",
        "omega_mat = np.array([[omega11,omega12,omega13],[omega21,omega22,omega23]])\n",
        "x_vec = np.array([[x1], [x2], [x3]])\n",
        "\n",
        "# Compute with vector/matrix form\n",
        "y_vec = beta_vec+np.matmul(omega_mat, x_vec)\n",
        "print(\"Matrix/vector form\")\n",
        "print('y1= %3.3f\\ny2 = %3.3f'%((y_vec[0][0],y_vec[1][0])))\n"
      ]
    },
    {
      "cell_type": "markdown",
      "metadata": {
        "id": "3LGRoTMLU8ZU"
      },
      "source": [
        "# Questions\n",
        "\n",
        "1.  A single linear equation with three inputs (i.e. **linear_function_3D()**) associates a value y with each point in a 3D space ($x_1$,$x_2$,$x_3$).  Is it possible to visualize this?   What value is at position (0,0,0)?\n",
        "\n",
        "2.  Write code to compute three linear equations with two inputs ($x_1$, $x_2$) using both the individual equations and the matrix form (you can make up any values for the inputs $\\beta_{i}$ and the slopes $\\omega_{ij}$."
      ]
    },
    {
      "cell_type": "markdown",
      "metadata": {
        "id": "7Y5zdKtKZAB2"
      },
      "source": [
        "# Special functions\n",
        "\n",
        "Throughout the book, we'll be using some special functions (see Appendix B.1.3).  The most important of these are the logarithm and exponential functions.  Let's investigate their properties.\n",
        "\n",
        "We'll start with the exponential function $y=\\exp[x]=e^x$ which maps the real line $[-\\infty,+\\infty]$ to non-negative numbers $[0,+\\infty]$."
      ]
    },
    {
      "cell_type": "code",
      "execution_count": null,
      "metadata": {
        "id": "c_GkjiY9IWCu"
      },
      "outputs": [],
      "source": [
        "# Draw the exponential function\n",
        "\n",
        "# Define an array of x values from -5 to 5 with increments of 0.01\n",
        "x = np.arange(-5.0,5.0, 0.01)\n",
        "y = np.exp(x) ;\n",
        "\n",
        "# Plot this function\n",
        "fig, ax = plt.subplots()\n",
        "ax.plot(x,y,'r-')\n",
        "ax.set_ylim([0,100]);ax.set_xlim([-5,5])\n",
        "ax.set_xlabel('x'); ax.set_ylabel('exp[x]')\n",
        "plt.show()"
      ]
    },
    {
      "cell_type": "markdown",
      "metadata": {
        "id": "XyrT8257IWCu"
      },
      "source": [
        "# Questions\n",
        "\n",
        "1. What is $\\exp[0]$?  \n",
        "2. What is $\\exp[1]$?\n",
        "3. What is $\\exp[-\\infty]$?\n",
        "4. What is $\\exp[+\\infty]$?\n",
        "5. A function is convex if we can draw a straight line between any two points on the function, and the line lies above the function everywhere between these two points. Similarly, a function is concave if a straight line between any two points lies below the function everywhere between these two points.  Is the exponential function convex or concave or neither?\n"
      ]
    },
    {
      "cell_type": "markdown",
      "metadata": {
        "id": "R6A4e5IxIWCu"
      },
      "source": [
        "Now let's consider the logarithm function $y=\\log[x]$. Throughout the book we always use natural (base $e$) logarithms. The log function maps non-negative numbers $[0,\\infty]$ to real numbers $[-\\infty,\\infty]$.  It is the inverse of the exponential function.  So when we compute $\\log[x]$ we are really asking \"What is the number $y$ so that $e^y=x$?\""
      ]
    },
    {
      "cell_type": "code",
      "execution_count": null,
      "metadata": {
        "id": "fOR7v2iXIWCu"
      },
      "outputs": [],
      "source": [
        "# Draw the logarithm function\n",
        "\n",
        "# Define an array of x values from -5 to 5 with increments of 0.01\n",
        "x = np.arange(0.01,5.0, 0.01)\n",
        "y = np.log(x) ;\n",
        "\n",
        "# Plot this function\n",
        "fig, ax = plt.subplots()\n",
        "ax.plot(x,y,'r-')\n",
        "ax.set_ylim([-5,5]);ax.set_xlim([0,5])\n",
        "ax.set_xlabel('x'); ax.set_ylabel('$\\log[x]$')\n",
        "plt.show()"
      ]
    },
    {
      "cell_type": "markdown",
      "metadata": {
        "id": "yYWrL5AXIWCv"
      },
      "source": [
        "# Questions\n",
        "\n",
        "1. What is $\\log[0]$?  \n",
        "2. What is $\\log[1]$?\n",
        "3. What is $\\log[e]$?\n",
        "4. What is $\\log[\\exp[3]]$?\n",
        "5. What is $\\exp[\\log[4]]$?\n",
        "6. What is $\\log[-1]$?\n",
        "7. Is the logarithm function concave or convex?\n"
      ]
    }
  ],
  "metadata": {
    "colab": {
      "provenance": [],
      "include_colab_link": true
    },
    "kernelspec": {
      "display_name": "Python 3 (ipykernel)",
      "language": "python",
      "name": "python3"
    },
    "language_info": {
      "codemirror_mode": {
        "name": "ipython",
        "version": 3
      },
      "file_extension": ".py",
      "mimetype": "text/x-python",
      "name": "python",
      "nbconvert_exporter": "python",
      "pygments_lexer": "ipython3",
      "version": "3.9.10"
    },
    "widgets": {
      "application/vnd.jupyter.widget-state+json": {
        "97cb446256e3420babce546697724124": {
          "model_module": "@jupyter-widgets/controls",
          "model_name": "VBoxModel",
          "model_module_version": "1.5.0",
          "state": {
            "_dom_classes": [
              "widget-interact"
            ],
            "_model_module": "@jupyter-widgets/controls",
            "_model_module_version": "1.5.0",
            "_model_name": "VBoxModel",
            "_view_count": null,
            "_view_module": "@jupyter-widgets/controls",
            "_view_module_version": "1.5.0",
            "_view_name": "VBoxView",
            "box_style": "",
            "children": [
              "IPY_MODEL_e036aaba3dfd4811a9fb59842642ddba",
              "IPY_MODEL_f8b9bbfa559e49a2813573718e89d8f9",
              "IPY_MODEL_5dcf101aac2e4f5aae4df071801f5eba"
            ],
            "layout": "IPY_MODEL_3a55c5a3b8284bc180360f9302fd5849"
          }
        },
        "e036aaba3dfd4811a9fb59842642ddba": {
          "model_module": "@jupyter-widgets/controls",
          "model_name": "FloatSliderModel",
          "model_module_version": "1.5.0",
          "state": {
            "_dom_classes": [],
            "_model_module": "@jupyter-widgets/controls",
            "_model_module_version": "1.5.0",
            "_model_name": "FloatSliderModel",
            "_view_count": null,
            "_view_module": "@jupyter-widgets/controls",
            "_view_module_version": "1.5.0",
            "_view_name": "FloatSliderView",
            "continuous_update": true,
            "description": "beta",
            "description_tooltip": null,
            "disabled": false,
            "layout": "IPY_MODEL_f6444d87cfea4fc18ed27430873b9445",
            "max": 10,
            "min": -10,
            "orientation": "horizontal",
            "readout": true,
            "readout_format": ".2f",
            "step": 0.1,
            "style": "IPY_MODEL_a91940aed7cf408ea0dc03b1619de994",
            "value": 2
          }
        },
        "f8b9bbfa559e49a2813573718e89d8f9": {
          "model_module": "@jupyter-widgets/controls",
          "model_name": "FloatSliderModel",
          "model_module_version": "1.5.0",
          "state": {
            "_dom_classes": [],
            "_model_module": "@jupyter-widgets/controls",
            "_model_module_version": "1.5.0",
            "_model_name": "FloatSliderModel",
            "_view_count": null,
            "_view_module": "@jupyter-widgets/controls",
            "_view_module_version": "1.5.0",
            "_view_name": "FloatSliderView",
            "continuous_update": true,
            "description": "omega",
            "description_tooltip": null,
            "disabled": false,
            "layout": "IPY_MODEL_3b441a2a43ac4e0c9b59116e16a072e8",
            "max": 10,
            "min": -10,
            "orientation": "horizontal",
            "readout": true,
            "readout_format": ".2f",
            "step": 0.1,
            "style": "IPY_MODEL_67e84d60b59f456b8f979fe8f6ecc970",
            "value": 5.7
          }
        },
        "5dcf101aac2e4f5aae4df071801f5eba": {
          "model_module": "@jupyter-widgets/output",
          "model_name": "OutputModel",
          "model_module_version": "1.0.0",
          "state": {
            "_dom_classes": [],
            "_model_module": "@jupyter-widgets/output",
            "_model_module_version": "1.0.0",
            "_model_name": "OutputModel",
            "_view_count": null,
            "_view_module": "@jupyter-widgets/output",
            "_view_module_version": "1.0.0",
            "_view_name": "OutputView",
            "layout": "IPY_MODEL_383fd370ee69400aa0b87300a690c48a",
            "msg_id": "",
            "outputs": [
              {
                "output_type": "display_data",
                "data": {
                  "text/plain": "<Figure size 640x480 with 1 Axes>",
                  "image/png": "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\n"
                },
                "metadata": {}
              }
            ]
          }
        },
        "3a55c5a3b8284bc180360f9302fd5849": {
          "model_module": "@jupyter-widgets/base",
          "model_name": "LayoutModel",
          "model_module_version": "1.2.0",
          "state": {
            "_model_module": "@jupyter-widgets/base",
            "_model_module_version": "1.2.0",
            "_model_name": "LayoutModel",
            "_view_count": null,
            "_view_module": "@jupyter-widgets/base",
            "_view_module_version": "1.2.0",
            "_view_name": "LayoutView",
            "align_content": null,
            "align_items": null,
            "align_self": null,
            "border": null,
            "bottom": null,
            "display": null,
            "flex": null,
            "flex_flow": null,
            "grid_area": null,
            "grid_auto_columns": null,
            "grid_auto_flow": null,
            "grid_auto_rows": null,
            "grid_column": null,
            "grid_gap": null,
            "grid_row": null,
            "grid_template_areas": null,
            "grid_template_columns": null,
            "grid_template_rows": null,
            "height": null,
            "justify_content": null,
            "justify_items": null,
            "left": null,
            "margin": null,
            "max_height": null,
            "max_width": null,
            "min_height": null,
            "min_width": null,
            "object_fit": null,
            "object_position": null,
            "order": null,
            "overflow": null,
            "overflow_x": null,
            "overflow_y": null,
            "padding": null,
            "right": null,
            "top": null,
            "visibility": null,
            "width": null
          }
        },
        "f6444d87cfea4fc18ed27430873b9445": {
          "model_module": "@jupyter-widgets/base",
          "model_name": "LayoutModel",
          "model_module_version": "1.2.0",
          "state": {
            "_model_module": "@jupyter-widgets/base",
            "_model_module_version": "1.2.0",
            "_model_name": "LayoutModel",
            "_view_count": null,
            "_view_module": "@jupyter-widgets/base",
            "_view_module_version": "1.2.0",
            "_view_name": "LayoutView",
            "align_content": null,
            "align_items": null,
            "align_self": null,
            "border": null,
            "bottom": null,
            "display": null,
            "flex": null,
            "flex_flow": null,
            "grid_area": null,
            "grid_auto_columns": null,
            "grid_auto_flow": null,
            "grid_auto_rows": null,
            "grid_column": null,
            "grid_gap": null,
            "grid_row": null,
            "grid_template_areas": null,
            "grid_template_columns": null,
            "grid_template_rows": null,
            "height": null,
            "justify_content": null,
            "justify_items": null,
            "left": null,
            "margin": null,
            "max_height": null,
            "max_width": null,
            "min_height": null,
            "min_width": null,
            "object_fit": null,
            "object_position": null,
            "order": null,
            "overflow": null,
            "overflow_x": null,
            "overflow_y": null,
            "padding": null,
            "right": null,
            "top": null,
            "visibility": null,
            "width": null
          }
        },
        "a91940aed7cf408ea0dc03b1619de994": {
          "model_module": "@jupyter-widgets/controls",
          "model_name": "SliderStyleModel",
          "model_module_version": "1.5.0",
          "state": {
            "_model_module": "@jupyter-widgets/controls",
            "_model_module_version": "1.5.0",
            "_model_name": "SliderStyleModel",
            "_view_count": null,
            "_view_module": "@jupyter-widgets/base",
            "_view_module_version": "1.2.0",
            "_view_name": "StyleView",
            "description_width": "",
            "handle_color": null
          }
        },
        "3b441a2a43ac4e0c9b59116e16a072e8": {
          "model_module": "@jupyter-widgets/base",
          "model_name": "LayoutModel",
          "model_module_version": "1.2.0",
          "state": {
            "_model_module": "@jupyter-widgets/base",
            "_model_module_version": "1.2.0",
            "_model_name": "LayoutModel",
            "_view_count": null,
            "_view_module": "@jupyter-widgets/base",
            "_view_module_version": "1.2.0",
            "_view_name": "LayoutView",
            "align_content": null,
            "align_items": null,
            "align_self": null,
            "border": null,
            "bottom": null,
            "display": null,
            "flex": null,
            "flex_flow": null,
            "grid_area": null,
            "grid_auto_columns": null,
            "grid_auto_flow": null,
            "grid_auto_rows": null,
            "grid_column": null,
            "grid_gap": null,
            "grid_row": null,
            "grid_template_areas": null,
            "grid_template_columns": null,
            "grid_template_rows": null,
            "height": null,
            "justify_content": null,
            "justify_items": null,
            "left": null,
            "margin": null,
            "max_height": null,
            "max_width": null,
            "min_height": null,
            "min_width": null,
            "object_fit": null,
            "object_position": null,
            "order": null,
            "overflow": null,
            "overflow_x": null,
            "overflow_y": null,
            "padding": null,
            "right": null,
            "top": null,
            "visibility": null,
            "width": null
          }
        },
        "67e84d60b59f456b8f979fe8f6ecc970": {
          "model_module": "@jupyter-widgets/controls",
          "model_name": "SliderStyleModel",
          "model_module_version": "1.5.0",
          "state": {
            "_model_module": "@jupyter-widgets/controls",
            "_model_module_version": "1.5.0",
            "_model_name": "SliderStyleModel",
            "_view_count": null,
            "_view_module": "@jupyter-widgets/base",
            "_view_module_version": "1.2.0",
            "_view_name": "StyleView",
            "description_width": "",
            "handle_color": null
          }
        },
        "383fd370ee69400aa0b87300a690c48a": {
          "model_module": "@jupyter-widgets/base",
          "model_name": "LayoutModel",
          "model_module_version": "1.2.0",
          "state": {
            "_model_module": "@jupyter-widgets/base",
            "_model_module_version": "1.2.0",
            "_model_name": "LayoutModel",
            "_view_count": null,
            "_view_module": "@jupyter-widgets/base",
            "_view_module_version": "1.2.0",
            "_view_name": "LayoutView",
            "align_content": null,
            "align_items": null,
            "align_self": null,
            "border": null,
            "bottom": null,
            "display": null,
            "flex": null,
            "flex_flow": null,
            "grid_area": null,
            "grid_auto_columns": null,
            "grid_auto_flow": null,
            "grid_auto_rows": null,
            "grid_column": null,
            "grid_gap": null,
            "grid_row": null,
            "grid_template_areas": null,
            "grid_template_columns": null,
            "grid_template_rows": null,
            "height": null,
            "justify_content": null,
            "justify_items": null,
            "left": null,
            "margin": null,
            "max_height": null,
            "max_width": null,
            "min_height": null,
            "min_width": null,
            "object_fit": null,
            "object_position": null,
            "order": null,
            "overflow": null,
            "overflow_x": null,
            "overflow_y": null,
            "padding": null,
            "right": null,
            "top": null,
            "visibility": null,
            "width": null
          }
        }
      }
    }
  },
  "nbformat": 4,
  "nbformat_minor": 0
}